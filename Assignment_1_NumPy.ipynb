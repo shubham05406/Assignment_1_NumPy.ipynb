{
  "nbformat": 4,
  "nbformat_minor": 0,
  "metadata": {
    "colab": {
      "provenance": []
    },
    "kernelspec": {
      "name": "python3",
      "display_name": "Python 3"
    },
    "language_info": {
      "name": "python"
    }
  },
  "cells": [
    {
      "cell_type": "markdown",
      "source": [
        "# *ASSIGNMENT 1 NUMPY*"
      ],
      "metadata": {
        "id": "DoKJDkdXUeYy"
      }
    },
    {
      "cell_type": "markdown",
      "source": [
        "# Q1) Create a null vector of size 10 but the fifth value which is 1."
      ],
      "metadata": {
        "id": "JPkTadXIS3UW"
      }
    },
    {
      "cell_type": "code",
      "source": [
        "import numpy as np\n",
        "x = np.zeros(10)\n",
        "print(x)\n",
        "print(\"fifth value is 1\")\n",
        "x[5] = 1\n",
        "print(x)"
      ],
      "metadata": {
        "colab": {
          "base_uri": "https://localhost:8080/"
        },
        "id": "PE8kR4TFS5uI",
        "outputId": "942ef6d9-8766-4119-d825-9f7158f801f5"
      },
      "execution_count": null,
      "outputs": [
        {
          "output_type": "stream",
          "name": "stdout",
          "text": [
            "[0. 0. 0. 0. 0. 0. 0. 0. 0. 0.]\n",
            "fifth value is 1\n",
            "[0. 0. 0. 0. 0. 1. 0. 0. 0. 0.]\n"
          ]
        }
      ]
    },
    {
      "cell_type": "markdown",
      "source": [
        "# Q2) Create a vector with values ranging from 10 to 49."
      ],
      "metadata": {
        "id": "QAL3_uLvTBm8"
      }
    },
    {
      "cell_type": "code",
      "source": [
        "import numpy as np\n",
        "v = np.arange(10,49)\n",
        "print(\"Given vector:\")\n",
        "print(v)\n",
        "print(\"Resultant vector\")\n",
        "v[1:-1]\n",
        "print(v)"
      ],
      "metadata": {
        "colab": {
          "base_uri": "https://localhost:8080/"
        },
        "id": "yc9XtCjCS5we",
        "outputId": "3a811f9d-2605-4462-90d2-9df019c116c7"
      },
      "execution_count": null,
      "outputs": [
        {
          "output_type": "stream",
          "name": "stdout",
          "text": [
            "Given vector:\n",
            "[10 11 12 13 14 15 16 17 18 19 20 21 22 23 24 25 26 27 28 29 30 31 32 33\n",
            " 34 35 36 37 38 39 40 41 42 43 44 45 46 47 48]\n",
            "Resultant vector\n",
            "[10 11 12 13 14 15 16 17 18 19 20 21 22 23 24 25 26 27 28 29 30 31 32 33\n",
            " 34 35 36 37 38 39 40 41 42 43 44 45 46 47 48]\n"
          ]
        }
      ]
    },
    {
      "cell_type": "markdown",
      "source": [
        "# Q3) Create a 3x3 matrix with values ranging from 0 to 8"
      ],
      "metadata": {
        "id": "uHSiahZwTMug"
      }
    },
    {
      "cell_type": "code",
      "source": [
        "import numpy as np\n",
        "\n",
        "matrix = np.arange(9).reshape(3, 3)\n",
        "\n",
        "print(matrix)\n"
      ],
      "metadata": {
        "colab": {
          "base_uri": "https://localhost:8080/"
        },
        "id": "nNw1V3YaS5z5",
        "outputId": "82b3e772-bca4-42f2-e47d-b7914159d077"
      },
      "execution_count": null,
      "outputs": [
        {
          "output_type": "stream",
          "name": "stdout",
          "text": [
            "[[0 1 2]\n",
            " [3 4 5]\n",
            " [6 7 8]]\n"
          ]
        }
      ]
    },
    {
      "cell_type": "markdown",
      "source": [
        "# Q4) Find indices of non-zero elements from [1,2,0,0,4,0]"
      ],
      "metadata": {
        "id": "kFFfxqEYTSiL"
      }
    },
    {
      "cell_type": "code",
      "source": [
        "import numpy as np\n",
        "a = np.array([1,2,0,0,4,0])\n",
        "print(\"Given array:\")\n",
        "print(a)\n",
        "print(\"Indices of non-zero elements:\")\n",
        "result = np.where(a != 0)[0]\n",
        "print(result)"
      ],
      "metadata": {
        "colab": {
          "base_uri": "https://localhost:8080/"
        },
        "id": "Fn3yqbPQS55D",
        "outputId": "e621d250-5e74-4d04-fdea-8a5e76bcb832"
      },
      "execution_count": null,
      "outputs": [
        {
          "output_type": "stream",
          "name": "stdout",
          "text": [
            "Given array:\n",
            "[1 2 0 0 4 0]\n",
            "Indices of non-zero elements:\n",
            "[0 1 4]\n"
          ]
        }
      ]
    },
    {
      "cell_type": "markdown",
      "source": [
        "# Q5) Create a 10x10 array with random values and find the minimum and maximum values.\n"
      ],
      "metadata": {
        "id": "GK28DN-TTg33"
      }
    },
    {
      "cell_type": "code",
      "source": [
        "import numpy as np\n",
        "x = np.random.random((10,10))\n",
        "print(\"Given array:\")\n",
        "print(x)\n",
        "xmin, xmax = x.min(), x.max()\n",
        "print(\"Minimum and Maximum Values:\")\n",
        "print(xmin, xmax)"
      ],
      "metadata": {
        "colab": {
          "base_uri": "https://localhost:8080/"
        },
        "id": "ETmbzl0PS576",
        "outputId": "fc8b8626-a169-435c-a160-7f962e0c5f04"
      },
      "execution_count": null,
      "outputs": [
        {
          "output_type": "stream",
          "name": "stdout",
          "text": [
            "Given array:\n",
            "[[0.71786932 0.19520924 0.83896499 0.50289807 0.10190611 0.95202651\n",
            "  0.26288351 0.65897647 0.77903395 0.79874889]\n",
            " [0.08130577 0.15618941 0.01475821 0.11873993 0.96372306 0.46770418\n",
            "  0.57621838 0.34924573 0.10544634 0.96852439]\n",
            " [0.25225476 0.63888997 0.46092451 0.92300582 0.7646733  0.00945409\n",
            "  0.62264913 0.05059678 0.03929008 0.46336738]\n",
            " [0.34796536 0.46382149 0.87925794 0.84197478 0.71783585 0.62251025\n",
            "  0.03285585 0.70125083 0.79541208 0.02354841]\n",
            " [0.92080238 0.12514662 0.04926977 0.92267327 0.34858589 0.68702519\n",
            "  0.89366659 0.25442766 0.4023414  0.5117142 ]\n",
            " [0.45862278 0.10476896 0.32359154 0.74941328 0.32553181 0.13574541\n",
            "  0.24214529 0.75580086 0.24003749 0.02107233]\n",
            " [0.34331497 0.75425724 0.1360388  0.3746934  0.06127822 0.50965138\n",
            "  0.13680423 0.3672662  0.84109943 0.7382253 ]\n",
            " [0.95033291 0.68932309 0.60592751 0.73977935 0.08782954 0.82980841\n",
            "  0.37490842 0.92920052 0.5086886  0.26482683]\n",
            " [0.25188579 0.6358603  0.0236245  0.93920288 0.0526337  0.70138571\n",
            "  0.71149387 0.0896511  0.30232861 0.74769009]\n",
            " [0.35541962 0.17615954 0.68330041 0.88007821 0.93913317 0.46203257\n",
            "  0.05187876 0.21188496 0.68623602 0.37246722]]\n",
            "Minimum and Maximum Values:\n",
            "0.009454089671563692 0.9685243878762161\n"
          ]
        }
      ]
    },
    {
      "cell_type": "markdown",
      "source": [
        "# Q6) Create a random vector of size 30 and find the mean value."
      ],
      "metadata": {
        "id": "rcXtze_yTnpb"
      }
    },
    {
      "cell_type": "code",
      "source": [
        "import numpy as np\n",
        "x = np.random.random(30)\n",
        "print(\"Given array:\")\n",
        "print(x)\n",
        "m = x.mean()\n",
        "print(\"Mean value:\")\n",
        "print(m)"
      ],
      "metadata": {
        "colab": {
          "base_uri": "https://localhost:8080/"
        },
        "id": "Vq-3VO7mS5-G",
        "outputId": "d7bc1b23-f64e-46e2-ef6b-a2d1bbd17efb"
      },
      "execution_count": null,
      "outputs": [
        {
          "output_type": "stream",
          "name": "stdout",
          "text": [
            "Given array:\n",
            "[0.32199659 0.05294068 0.69442311 0.72166496 0.69027733 0.55591819\n",
            " 0.55434365 0.51810722 0.20736984 0.44826227 0.31502681 0.94870226\n",
            " 0.35089336 0.09088188 0.64343073 0.83371887 0.21370284 0.75933691\n",
            " 0.33468384 0.33670276 0.00959953 0.7825167  0.31817195 0.12332002\n",
            " 0.83906297 0.13764526 0.80785197 0.6477828  0.45176494 0.58518068]\n",
            "Mean value:\n",
            "0.47650936323499676\n"
          ]
        }
      ]
    },
    {
      "cell_type": "code",
      "source": [],
      "metadata": {
        "id": "z20SJRfhS6Ao"
      },
      "execution_count": null,
      "outputs": []
    },
    {
      "cell_type": "code",
      "source": [],
      "metadata": {
        "id": "tiSNR6tMS6DU"
      },
      "execution_count": null,
      "outputs": []
    },
    {
      "cell_type": "code",
      "source": [],
      "metadata": {
        "id": "LD-S9upES6Gn"
      },
      "execution_count": null,
      "outputs": []
    }
  ]
}